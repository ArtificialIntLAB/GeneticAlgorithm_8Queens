{
 "cells": [
  {
   "cell_type": "markdown",
   "id": "2aa641eb",
   "metadata": {},
   "source": [
    "# Genetic Algorithm"
   ]
  },
  {
   "cell_type": "code",
   "execution_count": 1,
   "id": "41586b0f",
   "metadata": {},
   "outputs": [],
   "source": [
    "import random\n",
    "def fitness_function(chromosome):\n",
    "    conflicts = 0\n",
    "    for i in range(7):\n",
    "        for j in range(i + 1, 8):\n",
    "            if chromosome[i] == chromosome[j] or abs(chromosome[i] - chromosome[j]) == j - i:\n",
    "                conflicts += 1\n",
    "    return conflicts\n",
    "def random_selection(population):\n",
    "    total_fitness = sum(1 / (fitness_function(chromosome) + 1) for chromosome in population)\n",
    "    rand_num = random.uniform(0, total_fitness)\n",
    "    cumulative_fitness = 0\n",
    "    for chromosome in population:\n",
    "        cumulative_fitness += 1 / (fitness_function(chromosome) + 1)\n",
    "        if cumulative_fitness >= rand_num:\n",
    "            return chromosome\n",
    "def reproduce(x, y):\n",
    "    n = len(x)\n",
    "    c = random.randint(1, n - 1)\n",
    "    child1 = x[:c] + y[c:]\n",
    "    child2 = y[:c] + x[c:]\n",
    "    return child1, child2\n",
    "def mutate(child):\n",
    "    n = len(child)\n",
    "    c = random.randint(0, n - 1)\n",
    "    m = random.randint(1, 8)\n",
    "    child[c] = m\n",
    "    return child\n",
    "def genetic_algorithm(chromosome):\n",
    "    population_size = 100\n",
    "    max_generations = 1000\n",
    "    mutation_rate = 0.1\n",
    "    population = [chromosome.copy() for _ in range(population_size)]\n",
    "    for generation in range(max_generations):\n",
    "        new_population = []\n",
    "        for _ in range(population_size // 2):\n",
    "            parent1 = random_selection(population)\n",
    "            parent2 = random_selection(population)\n",
    "            child1, child2 = reproduce(parent1, parent2)\n",
    "            if random.random() < mutation_rate:\n",
    "                child1 = mutate(child1)\n",
    "            if random.random() < mutation_rate:\n",
    "                child2 = mutate(child2)\n",
    "            new_population.append(child1)\n",
    "            new_population.append(child2)\n",
    "        population = new_population\n",
    "        best_chromosome = min(population, key=lambda x: fitness_function(x))\n",
    "        if fitness_function(best_chromosome) == 0:\n",
    "            return best_chromosome, generation + 1\n",
    "    return None, max_generations"
   ]
  },
  {
   "cell_type": "code",
   "execution_count": 2,
   "id": "70643ba4",
   "metadata": {},
   "outputs": [
    {
     "name": "stdout",
     "output_type": "stream",
     "text": [
      "Solution found: [3, 6, 2, 7, 1, 4, 8, 5]\n",
      "Number of iterations: 759\n"
     ]
    }
   ],
   "source": [
    "C = [3, 6, 8, 7, 6, 4, 2, 1]\n",
    "result, num_iterations = genetic_algorithm(C)\n",
    "if result:\n",
    "    print(\"Solution found:\", result)\n",
    "    print(\"Number of iterations:\", num_iterations)\n",
    "else:\n",
    "    print(\"No solution found within the maximum number of iterations.\")"
   ]
  },
  {
   "cell_type": "code",
   "execution_count": null,
   "id": "a5459f05",
   "metadata": {},
   "outputs": [],
   "source": []
  },
  {
   "cell_type": "code",
   "execution_count": null,
   "id": "e98c1b55",
   "metadata": {},
   "outputs": [],
   "source": []
  }
 ],
 "metadata": {
  "kernelspec": {
   "display_name": "Python 3 (ipykernel)",
   "language": "python",
   "name": "python3"
  },
  "language_info": {
   "codemirror_mode": {
    "name": "ipython",
    "version": 3
   },
   "file_extension": ".py",
   "mimetype": "text/x-python",
   "name": "python",
   "nbconvert_exporter": "python",
   "pygments_lexer": "ipython3",
   "version": "3.9.12"
  }
 },
 "nbformat": 4,
 "nbformat_minor": 5
}
